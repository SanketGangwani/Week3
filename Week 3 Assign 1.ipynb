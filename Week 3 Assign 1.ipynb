{
 "cells": [
  {
   "cell_type": "markdown",
   "id": "6e44309b-3ad4-4481-9f64-bd42f4691ffa",
   "metadata": {},
   "source": [
    "Q1. Which keyword is used to create a function? Create a function to return a list of odd numbers in the\n",
    "range of 1 to 25. "
   ]
  },
  {
   "cell_type": "code",
   "execution_count": 1,
   "id": "dd1d5c1d-4d74-498e-b3b6-727731dd88cf",
   "metadata": {},
   "outputs": [
    {
     "name": "stdout",
     "output_type": "stream",
     "text": [
      "----------------------------------------------------------------------------------------------------\n",
      "Initially the list was:\n",
      "[0, 1, 2, 3, 4, 5, 6, 7, 8, 9, 10, 11, 12, 13, 14, 15, 16, 17, 18, 19, 20, 21, 22, 23, 24, 25]\n",
      "\n",
      "List after passing it into our defined \"odd_num\" function:\n",
      "[1, 3, 5, 7, 9, 11, 13, 15, 17, 19, 21, 23, 25]\n",
      "----------------------------------------------------------------------------------------------------\n"
     ]
    }
   ],
   "source": [
    "'''\n",
    "To create a user defined function, \"def\" keyword is used and the synatx to create a user defined function is as follows:\n",
    "    \n",
    "def function_name(input parameters):\n",
    "    operation\n",
    "    \n",
    "Here,\n",
    "    1. function_name will be the name by which you will call the function when needed\n",
    "    2. input parameters are the parameters that function will take from the user and will do the required operations on them\n",
    "    3. operation is the assigned work that the function is expected to perform\n",
    "'''\n",
    "def odd_num(lst):\n",
    "    l1 = []\n",
    "    for i in lst:\n",
    "        if(i % 2 != 0):\n",
    "            l1.append(i)\n",
    "    return l1\n",
    "\n",
    "# Here, I am taking before variable to store a list with list elemnts 0,1,2,....,24,25\n",
    "print('-'*100)\n",
    "before = list(range(26))\n",
    "print('Initially the list was:')\n",
    "print(before)\n",
    "\n",
    "# Also, I am taking an after variable that will use our defined function to fetch odd values from our original list\n",
    "after = odd_num(before)\n",
    "print('\\nList after passing it into our defined \"odd_num\" function:')\n",
    "print(after)\n",
    "print('-'*100)"
   ]
  },
  {
   "cell_type": "markdown",
   "id": "22b1bb5e-fff6-4b43-8207-69c377a83b68",
   "metadata": {},
   "source": [
    "Q2. Why *args and **kwargs is used in some functions? Create a function each for *args and **kwargs\n",
    "to demonstrate their use. "
   ]
  },
  {
   "cell_type": "code",
   "execution_count": 2,
   "id": "4fc2dda7-9520-4f8d-9cc3-788c6f35d1bd",
   "metadata": {},
   "outputs": [
    {
     "name": "stdout",
     "output_type": "stream",
     "text": [
      "1 x 2 = 2\n",
      "2 x 2 = 4\n",
      "3 x 2 = 6\n",
      "4 x 2 = 8\n",
      "5 x 2 = 10\n",
      "6 x 2 = 12\n",
      "7 x 2 = 14\n",
      "---------------\n",
      "10 x 2 = 20\n",
      "20 x 2 = 40\n",
      "30 x 2 = 60\n"
     ]
    }
   ],
   "source": [
    "'''\n",
    "*args: \n",
    "\n",
    "There might be some instances where you want to make a function where, the number of inputs is not defined\n",
    "Meaning in some operations it might take only 1 input while in some operations it might take n number of inputs\n",
    "Hence, in such cases where the number of inputs is not fixed we use \"*args\" in our function\n",
    "\n",
    "Please note that, here \"args\" is not a reserved keyword, what matters is the asterisk sign (*)\n",
    "'''\n",
    "\n",
    "# *args Example :\n",
    "#     Consider I want to make a function where we will get some numbers as input and we will print those numbers by multiplying them by 2 in form of mathematics table\n",
    "    \n",
    "\n",
    "def multiple(*num):\n",
    "    for i in num:\n",
    "        print(i,'x 2 =',i*2)\n",
    "        \n",
    "multiple(1,2,3,4,5,6,7)\n",
    "print('-'*15)\n",
    "multiple(10,20,30)\n",
    "\n",
    "# Here, we can see that the function works properly no matter how many numbers are given in input"
   ]
  },
  {
   "cell_type": "code",
   "execution_count": 3,
   "id": "02771451-bc32-4073-bcfd-7f227a0711c7",
   "metadata": {},
   "outputs": [
    {
     "name": "stdout",
     "output_type": "stream",
     "text": [
      "-------------------------------------------------------------------------------------\n",
      "Newly formed dictionary: {'first_name': 'Sanket', 'last_name': 'Gangwani', 'age': 23}\n",
      "-------------------------------------------------------------------------------------\n"
     ]
    }
   ],
   "source": [
    "'''\n",
    "**kwargs:\n",
    "    \n",
    "While working on projects, there might be some instance where wou want to create a dictionary by using some user inputs\n",
    "Meaning a user will provide some keys and their associated values and you want to have a dictionary made out of them\n",
    "In such cases, it is possible to accomplish this by defining a function and using \"**kwargs\" in our defined function\n",
    "\n",
    "Please note that just like args, 'kwargs' is not a reserved keyword, what matters is the double asterisk sign (**)\n",
    "\n",
    "'''\n",
    "\n",
    "# **kwargs Example:\n",
    "#     Consider I am defining a function to get student details from user and I want to create a dictionary using user data\n",
    "\n",
    "def stud(**details):\n",
    "    return details\n",
    "\n",
    "dct = stud(first_name = 'Sanket', last_name = 'Gangwani' , age = 23 )\n",
    "print('-'*85)\n",
    "print('Newly formed dictionary:',dct)\n",
    "print('-'*85)\n",
    "\n",
    "# Hence, we can see that the function takes user details and makes a dictionary out of it"
   ]
  },
  {
   "cell_type": "markdown",
   "id": "226a2db9-38f4-4913-8598-4160af041cb4",
   "metadata": {},
   "source": [
    "Q3. What is an iterator in python? Name the method used to initialise the iterator object and the method\n",
    "used for iteration. Use these methods to print the first five elements of the given list [2, 4, 6, 8, 10, 12, 14,\n",
    "16, 18, 20]. "
   ]
  },
  {
   "cell_type": "code",
   "execution_count": 4,
   "id": "50713e55-adb9-40f6-b23e-cbe789521e74",
   "metadata": {},
   "outputs": [
    {
     "name": "stdout",
     "output_type": "stream",
     "text": [
      "First five elemnts of list are:\n",
      "2\n",
      "4\n",
      "6\n",
      "8\n",
      "10\n"
     ]
    }
   ],
   "source": [
    "'''\n",
    "An iterator can be defined as an object that helps to iterate elements over an iterable. Here, iterable simply means an object over which we can iterate and access elemnts one by one.\n",
    "Method used to initialise the iterator object is iter()\n",
    "Method used for iteration is next()\n",
    "\n",
    "Note:\n",
    "Datatypes like int,float are not iterable, meaning even if we try to pass this inside iter() function, we won't be able to do so\n",
    "\n",
    "'''\n",
    "\n",
    "# Original list\n",
    "l1 = [2, 4, 6, 8, 10, 12, 14, 16, 18, 20]\n",
    "\n",
    "# Making my list itearble to access elemnts from my list\n",
    "iterable_list = iter(l1)                                               \n",
    "\n",
    "# Using next() function to iterate over my iterable list\n",
    "print('First five elemnts of list are:')\n",
    "for i in range(5):\n",
    "    print(next(iterable_list))"
   ]
  },
  {
   "cell_type": "markdown",
   "id": "15db3e39-da80-48d0-917c-757e3f133a0d",
   "metadata": {},
   "source": [
    "Q4. What is a generator function in python? Why yield keyword is used? Give an example of a generator function."
   ]
  },
  {
   "cell_type": "code",
   "execution_count": 5,
   "id": "c20558c7-29aa-4f6a-ad64-05a740b7eadc",
   "metadata": {},
   "outputs": [
    {
     "name": "stdout",
     "output_type": "stream",
     "text": [
      "[0, 1, 2, 3, 4, 5, 6, 7, 8, 9, 11, 22, 33, 44, 55, 66, 77, 88, 99, 101, 111, 121, 131, 141, 151, 161, 171, 181, 191, 202, 212, 222, 232, 242, 252, 262, 272, 282, 292]\n"
     ]
    }
   ],
   "source": [
    "'''\n",
    "Generative function: \n",
    "    \n",
    "In Python, a generator function is a function where the output of the function is fetched element by element.\n",
    "Meaning a function where the output is not stored in a compiled form in system menory but rather the function displays individual elemnts of the output one by one is known as a Generative function\n",
    "Generative functions are useful where the problem statement contains large number of data\n",
    "Since the generative function doesn't compile whole output as one, it saves the system memory, hence prevents overload on the interpreter and results in faster operations\n",
    "\n",
    "Yield:\n",
    "    \n",
    "Yield is a reserved keyword in python, that is used in generative functions\n",
    "Yield keyword is the reason why the generative functions give output one by one\n",
    "If I define a function where I am using \"yield\" output instead of \"return\" output, \n",
    "So this function will get the output from first iteration, will display it to the user and then the second output and so on\n",
    "So because of this yield keyword the whole function will show the output by fetching the elements one by one\n",
    "\n",
    "'''\n",
    "# Example:\n",
    "# I am defining a function that will take a number from the user as input, and will fetch palindrome numbers in that range\n",
    "\n",
    "def palindrome(n):\n",
    "    for i in range(n):\n",
    "        if str(i) == str(i)[::-1]:\n",
    "            yield i\n",
    "            \n",
    "print(list(palindrome(300)))"
   ]
  },
  {
   "cell_type": "markdown",
   "id": "e3dea5ba-2e6b-4118-a3ef-bcddd091f0b1",
   "metadata": {},
   "source": [
    "Q5. Create a generator function for prime numbers less than 1000. Use the next() method to print the first 20 prime numbers."
   ]
  },
  {
   "cell_type": "code",
   "execution_count": 6,
   "id": "a4c3258f-417f-4515-94d3-3b5613fe1008",
   "metadata": {},
   "outputs": [
    {
     "name": "stdout",
     "output_type": "stream",
     "text": [
      "Following is the list obtained from our generative function that shows prime numbers less then 1000:\n",
      "\n",
      "[2, 3, 5, 7, 11, 13, 17, 19, 23, 29, 31, 37, 41, 43, 47, 53, 59, 61, 67, 71, 73, 79, 83, 89, 97, 101, 103, 107, 109, 113, 127, 131, 137, 139, 149, 151, 157, 163, 167, 173, 179, 181, 191, 193, 197, 199, 211, 223, 227, 229, 233, 239, 241, 251, 257, 263, 269, 271, 277, 281, 283, 293, 307, 311, 313, 317, 331, 337, 347, 349, 353, 359, 367, 373, 379, 383, 389, 397, 401, 409, 419, 421, 431, 433, 439, 443, 449, 457, 461, 463, 467, 479, 487, 491, 499, 503, 509, 521, 523, 541, 547, 557, 563, 569, 571, 577, 587, 593, 599, 601, 607, 613, 617, 619, 631, 641, 643, 647, 653, 659, 661, 673, 677, 683, 691, 701, 709, 719, 727, 733, 739, 743, 751, 757, 761, 769, 773, 787, 797, 809, 811, 821, 823, 827, 829, 839, 853, 857, 859, 863, 877, 881, 883, 887, 907, 911, 919, 929, 937, 941, 947, 953, 967, 971, 977, 983, 991, 997]\n",
      "\n",
      "Following are first 20 prime numbers:\n",
      "\n",
      "-> 2\n",
      "-> 3\n",
      "-> 5\n",
      "-> 7\n",
      "-> 11\n",
      "-> 13\n",
      "-> 17\n",
      "-> 19\n",
      "-> 23\n",
      "-> 29\n",
      "-> 31\n",
      "-> 37\n",
      "-> 41\n",
      "-> 43\n",
      "-> 47\n",
      "-> 53\n",
      "-> 59\n",
      "-> 61\n",
      "-> 67\n",
      "-> 71\n"
     ]
    }
   ],
   "source": [
    "# Creating generator function\n",
    "\n",
    "def prime():\n",
    "    \n",
    "    for j in range(2,1000):\n",
    "        c = []\n",
    "        for i in range(2,j):\n",
    "            if j % i == 0:\n",
    "                c.append(i)\n",
    "        if len(c) == 0:\n",
    "            yield j\n",
    "            \n",
    "number = list(prime())\n",
    "\n",
    "print('Following is the list obtained from our generative function that shows prime numbers less then 1000:\\n')\n",
    "print(number)\n",
    "\n",
    "# Printing first 20 prime numbers using next\n",
    "\n",
    "first20 = prime()\n",
    "\n",
    "print('\\nFollowing are first 20 prime numbers:\\n')\n",
    "for i in range(1,21):\n",
    "    print('->',next(first20))"
   ]
  },
  {
   "cell_type": "markdown",
   "id": "c6a883ed-c2cf-4ab7-81e3-a5164f317876",
   "metadata": {},
   "source": [
    "Q6. Write a python program to print the first 10 Fibonacci numbers using a while loop."
   ]
  },
  {
   "cell_type": "code",
   "execution_count": 7,
   "id": "0ce8b7ef-477c-43ed-883a-a0ebb65b02ba",
   "metadata": {},
   "outputs": [
    {
     "name": "stdout",
     "output_type": "stream",
     "text": [
      "----------------------------------------------------------------------\n",
      "First 10 Fibonacci numbers are: [0, 1, 1, 2, 3, 5, 8, 13, 21, 34]\n",
      "----------------------------------------------------------------------\n"
     ]
    }
   ],
   "source": [
    "def fib():\n",
    "    a,b = 0,1\n",
    "    c = 0\n",
    "    while c<10:\n",
    "        yield a\n",
    "        a,b = b,a+b\n",
    "        c+=1\n",
    "        \n",
    "print('-'*70)       \n",
    "print('First 10 Fibonacci numbers are:',list(fib()))\n",
    "print('-'*70)"
   ]
  },
  {
   "cell_type": "markdown",
   "id": "6fdc87c0-8d72-4583-9c0e-6f0415414168",
   "metadata": {},
   "source": [
    "Q7. Write a List Comprehension to iterate through the given string: ‘pwskills’. Expected output: ['p', 'w', 's', 'k', 'i', 'l', 'l', 's']"
   ]
  },
  {
   "cell_type": "code",
   "execution_count": 8,
   "id": "5398380f-0173-467e-8566-5d1c7ee91658",
   "metadata": {},
   "outputs": [
    {
     "name": "stdout",
     "output_type": "stream",
     "text": [
      "------------------------------------------------------------\n",
      "Output list: ['p', 'w', 's', 'k', 'i', 'l', 'l', 's']\n",
      "------------------------------------------------------------\n"
     ]
    }
   ],
   "source": [
    "string = 'pwskills'\n",
    "a = [i for i in string]\n",
    "print('-'*60)\n",
    "print('Output list:',a)\n",
    "print('-'*60)"
   ]
  },
  {
   "cell_type": "markdown",
   "id": "c9c9c7ff-8627-4414-96b6-017ac93e4803",
   "metadata": {},
   "source": [
    "Q8. Write a python program to check whether a given number is Palindrome or not using a while loop."
   ]
  },
  {
   "cell_type": "code",
   "execution_count": 9,
   "id": "741931a3-b7e1-48e2-968c-7844942a7821",
   "metadata": {},
   "outputs": [
    {
     "name": "stdin",
     "output_type": "stream",
     "text": [
      "Enter the number:  12121\n"
     ]
    },
    {
     "name": "stdout",
     "output_type": "stream",
     "text": [
      "------------------------------------------------------------\n",
      "The given number 12121 is a Palindrome\n",
      "------------------------------------------------------------\n"
     ]
    }
   ],
   "source": [
    "a = input('Enter the number: ')\n",
    "while (a == a[::-1]):\n",
    "    print('-'*60)\n",
    "    print('The given number',a,'is a Palindrome')\n",
    "    print('-'*60)\n",
    "    break\n",
    "else:\n",
    "    print('-'*60)\n",
    "    print('The given number',a,'is not a Palindrome')\n",
    "    print('-'*60)"
   ]
  },
  {
   "cell_type": "markdown",
   "id": "018e0286-cc36-4dc8-9ac4-f3007abed4c4",
   "metadata": {},
   "source": [
    "Q9. Write a code to print odd numbers from 1 to 100 using list comprehension.  \n",
    "Note: Use a list comprehension to create a list from 1 to 100 and use another List comprehension to filter\n",
    "out odd numbers."
   ]
  },
  {
   "cell_type": "code",
   "execution_count": 10,
   "id": "e20ef6be-0fc0-434e-b2f6-9c0bba182357",
   "metadata": {},
   "outputs": [
    {
     "name": "stdout",
     "output_type": "stream",
     "text": [
      "List containing numbers from 1 to 100:\n",
      "\n",
      "[1, 2, 3, 4, 5, 6, 7, 8, 9, 10, 11, 12, 13, 14, 15, 16, 17, 18, 19, 20, 21, 22, 23, 24, 25, 26, 27, 28, 29, 30, 31, 32, 33, 34, 35, 36, 37, 38, 39, 40, 41, 42, 43, 44, 45, 46, 47, 48, 49, 50, 51, 52, 53, 54, 55, 56, 57, 58, 59, 60, 61, 62, 63, 64, 65, 66, 67, 68, 69, 70, 71, 72, 73, 74, 75, 76, 77, 78, 79, 80, 81, 82, 83, 84, 85, 86, 87, 88, 89, 90, 91, 92, 93, 94, 95, 96, 97, 98, 99, 100]\n",
      "\n",
      "\n",
      "Filtered list that contains only odd numbers:\n",
      "\n",
      "[1, 3, 5, 7, 9, 11, 13, 15, 17, 19, 21, 23, 25, 27, 29, 31, 33, 35, 37, 39, 41, 43, 45, 47, 49, 51, 53, 55, 57, 59, 61, 63, 65, 67, 69, 71, 73, 75, 77, 79, 81, 83, 85, 87, 89, 91, 93, 95, 97, 99]\n"
     ]
    }
   ],
   "source": [
    "list_0_to_100 = [i for i in range(1,101)]\n",
    "print('List containing numbers from 1 to 100:\\n')\n",
    "print(list_0_to_100)\n",
    "print('\\n')\n",
    "\n",
    "print('Filtered list that contains only odd numbers:\\n')\n",
    "print([i for i in list_0_to_100 if i%2 != 0])\n",
    "# print([i for i in range(1,101) if i%2 !=0])"
   ]
  }
 ],
 "metadata": {
  "kernelspec": {
   "display_name": "Python 3 (ipykernel)",
   "language": "python",
   "name": "python3"
  },
  "language_info": {
   "codemirror_mode": {
    "name": "ipython",
    "version": 3
   },
   "file_extension": ".py",
   "mimetype": "text/x-python",
   "name": "python",
   "nbconvert_exporter": "python",
   "pygments_lexer": "ipython3",
   "version": "3.10.8"
  }
 },
 "nbformat": 4,
 "nbformat_minor": 5
}
