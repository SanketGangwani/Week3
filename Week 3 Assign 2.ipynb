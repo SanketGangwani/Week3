{
 "cells": [
  {
   "cell_type": "markdown",
   "id": "2aaa7df0-223d-494a-8172-6a2e24d5eb91",
   "metadata": {},
   "source": [
    "Q1. Create a python program to sort the given list of tuples based on integer value using a\n",
    "lambda function.\n",
    "\n",
    "[('Sachin Tendulkar', 34357), ('Ricky Ponting', 27483), ('Jack Kallis', 25534), ('Virat Kohli', 24936)] "
   ]
  },
  {
   "cell_type": "code",
   "execution_count": 1,
   "id": "fe328b33-c183-4dee-8e0d-85db6f7e2c98",
   "metadata": {},
   "outputs": [
    {
     "name": "stdout",
     "output_type": "stream",
     "text": [
      "------------------------------------------------------------------------------------------------------------------------\n",
      "Original list : [('Sachin Tendulkar', 34357), ('Ricky Ponting', 27483), ('Jack Kallis', 25534), ('Virat Kohli', 24936)]\n",
      "Sorted list   : [('Virat Kohli', 24936), ('Jack Kallis', 25534), ('Ricky Ponting', 27483), ('Sachin Tendulkar', 34357)]\n",
      "------------------------------------------------------------------------------------------------------------------------\n"
     ]
    }
   ],
   "source": [
    "# Creating list\n",
    "my_list = [('Sachin Tendulkar', 34357), ('Ricky Ponting', 27483), ('Jack Kallis', 25534), ('Virat Kohli', 24936)]\n",
    "\n",
    "# Defining function\n",
    "def sorting(lst):\n",
    "    l1 = []\n",
    "    for i in lst:\n",
    "        l1.append(i[1])\n",
    "    l1.sort()\n",
    "\n",
    "    final = []\n",
    "    for i in l1:\n",
    "        for j in range(len(lst)):\n",
    "            if i in lst[j]:\n",
    "                final.append(lst[j])\n",
    "    return final\n",
    "\n",
    "# Creating lambda function using above defined function\n",
    "test = lambda a : sorting(a)\n",
    "\n",
    "# Testing the function by passing our original list\n",
    "print('-'*120)\n",
    "print('Original list :',my_list)\n",
    "print('Sorted list   :',test(my_list))\n",
    "print('-'*120)"
   ]
  },
  {
   "cell_type": "markdown",
   "id": "f0437a84-fc32-4af2-a2a3-fb2a9cff6b89",
   "metadata": {},
   "source": [
    "Q2. Write a Python Program to find the squares of all the numbers in the given list of integers using\n",
    "lambda and map functions.\n",
    "\n",
    "[1, 2, 3, 4, 5, 6, 7, 8, 9, 10] "
   ]
  },
  {
   "cell_type": "code",
   "execution_count": 2,
   "id": "49ac6f21-d221-49a4-97c7-a1e2fd9f4daf",
   "metadata": {},
   "outputs": [
    {
     "name": "stdout",
     "output_type": "stream",
     "text": [
      "------------------------------------------------------------\n",
      "Original list : [1, 2, 3, 4, 5, 6, 7, 8, 9, 10]\n",
      "Squared list  : [1, 4, 9, 16, 25, 36, 49, 64, 81, 100]\n",
      "------------------------------------------------------------\n"
     ]
    }
   ],
   "source": [
    "my_list = [1,2,3,4,5,6,7,8,9,10]\n",
    "\n",
    "print('-'*60)\n",
    "print('Original list :',my_list)\n",
    "print('Squared list  :',list(map(lambda x : x**2,my_list)))\n",
    "print('-'*60)"
   ]
  },
  {
   "cell_type": "markdown",
   "id": "05195455-c59c-4f87-993b-29914731c975",
   "metadata": {},
   "source": [
    "Q3. Write a python program to convert the given list of integers into a tuple of strings. Use map and\n",
    "lambda functions\n",
    "\n",
    "Given String: [1, 2, 3, 4, 5, 6, 7, 8, 9, 10]\n",
    "\n",
    "Expected output: ('1', '2', '3', '4', '5', '6', '7', '8', '9', '10') "
   ]
  },
  {
   "cell_type": "code",
   "execution_count": 3,
   "id": "286b2904-d58d-4ff0-b512-43a61ef7c960",
   "metadata": {},
   "outputs": [
    {
     "name": "stdout",
     "output_type": "stream",
     "text": [
      "---------------------------------------------------------------------------\n",
      "Original list     : [1, 2, 3, 4, 5, 6, 7, 8, 9, 10]\n",
      "Typecasted tuple  : ('1', '2', '3', '4', '5', '6', '7', '8', '9', '10')\n",
      "---------------------------------------------------------------------------\n"
     ]
    }
   ],
   "source": [
    "my_list = [1,2,3,4,5,6,7,8,9,10]\n",
    "\n",
    "print('-'*75)\n",
    "print('Original list     :',my_list)\n",
    "print('Typecasted tuple  :',tuple(map(lambda x : str(x),my_list)))\n",
    "print('-'*75)"
   ]
  },
  {
   "cell_type": "markdown",
   "id": "3ebb5463-7f51-4f8c-9516-eb484dc9fd78",
   "metadata": {},
   "source": [
    "Q4. Write a python program using reduce function to compute the product of a list containing numbers\n",
    "from 1 to 25. "
   ]
  },
  {
   "cell_type": "code",
   "execution_count": 4,
   "id": "9fb4bbb2-692b-4825-b4c9-ef2751e8f925",
   "metadata": {},
   "outputs": [],
   "source": [
    "from functools import reduce"
   ]
  },
  {
   "cell_type": "code",
   "execution_count": 5,
   "id": "857eb8bd-239b-48d5-8b7b-9927f1227e07",
   "metadata": {},
   "outputs": [
    {
     "name": "stdout",
     "output_type": "stream",
     "text": [
      "------------------------------------------------------------------------------------------------------------------------\n",
      "Original list          : [1, 2, 3, 4, 5, 6, 7, 8, 9, 10, 11, 12, 13, 14, 15, 16, 17, 18, 19, 20, 21, 22, 23, 24, 25]\n",
      "Reduce function output : 15511210043330985984000000\n",
      "------------------------------------------------------------------------------------------------------------------------\n"
     ]
    }
   ],
   "source": [
    "my_list = list(range(1,26))\n",
    "\n",
    "print('-'*120)\n",
    "print('Original list          :',my_list)\n",
    "print('Reduce function output :',reduce(lambda x,y : x*y,my_list))\n",
    "print('-'*120)"
   ]
  },
  {
   "cell_type": "markdown",
   "id": "7c0e9890-4779-4ee9-84c9-1226aeaf9b51",
   "metadata": {},
   "source": [
    "Q5. Write a python program to filter the numbers in a given list that are divisible by 2 and 3 using the\n",
    "filter function.\n",
    "\n",
    "[2, 3, 6, 9, 27, 60, 90, 120, 55, 46] "
   ]
  },
  {
   "cell_type": "code",
   "execution_count": 6,
   "id": "b9c020ec-fc83-41fc-8c97-5770be4f9724",
   "metadata": {},
   "outputs": [
    {
     "name": "stdout",
     "output_type": "stream",
     "text": [
      "------------------------------------------------------------\n",
      "Original list : [2, 3, 6, 9, 27, 60, 90, 120, 55, 46]\n",
      "Filtered list : [6, 60, 90, 120]\n",
      "------------------------------------------------------------\n"
     ]
    }
   ],
   "source": [
    "my_list = [2,3,6,9,27,60,90,120,55,46]\n",
    "\n",
    "print('-'*60)\n",
    "print('Original list :',my_list)\n",
    "print('Filtered list :',list(filter(lambda x : x%2 == 0 and x%3 == 0 ,my_list)))\n",
    "print('-'*60)"
   ]
  },
  {
   "cell_type": "markdown",
   "id": "7f937696-6e8f-4eda-9b2e-98b073432add",
   "metadata": {},
   "source": [
    "Q6. Write a python program to find palindromes in the given list of strings using lambda and filter\n",
    "function.\n",
    "\n",
    "['python', 'php', 'aba', 'radar', 'level'] "
   ]
  },
  {
   "cell_type": "code",
   "execution_count": 7,
   "id": "52b8462b-68fa-4fc3-b609-a62871d0319b",
   "metadata": {},
   "outputs": [
    {
     "name": "stdout",
     "output_type": "stream",
     "text": [
      "------------------------------------------------------------\n",
      "Original list : ['python', 'php', 'aba', 'radar', 'level']\n",
      "Filtered list : ['php', 'aba', 'radar', 'level']\n",
      "------------------------------------------------------------\n"
     ]
    }
   ],
   "source": [
    "my_list = ['python', 'php', 'aba', 'radar', 'level']\n",
    "\n",
    "print('-'*60)\n",
    "print('Original list :',my_list)\n",
    "print('Filtered list :',list(filter(lambda x : x[:] == x[::-1],my_list)))\n",
    "print('-'*60)"
   ]
  }
 ],
 "metadata": {
  "kernelspec": {
   "display_name": "Python 3 (ipykernel)",
   "language": "python",
   "name": "python3"
  },
  "language_info": {
   "codemirror_mode": {
    "name": "ipython",
    "version": 3
   },
   "file_extension": ".py",
   "mimetype": "text/x-python",
   "name": "python",
   "nbconvert_exporter": "python",
   "pygments_lexer": "ipython3",
   "version": "3.10.8"
  }
 },
 "nbformat": 4,
 "nbformat_minor": 5
}
